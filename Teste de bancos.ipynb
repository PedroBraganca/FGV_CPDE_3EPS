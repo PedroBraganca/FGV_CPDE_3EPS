{
 "cells": [
  {
   "cell_type": "code",
   "execution_count": null,
   "metadata": {},
   "outputs": [],
   "source": [
    "# isso é um comentário\n"
   ]
  },
  {
   "cell_type": "code",
   "execution_count": 1,
   "metadata": {},
   "outputs": [],
   "source": [
    "# importando Bilioteca\n",
    "# por convenção vamos chamar o pandas pd\n",
    "import pandas as pd\n"
   ]
  },
  {
   "cell_type": "code",
   "execution_count": 2,
   "metadata": {},
   "outputs": [
    {
     "data": {
      "text/html": [
       "<div>\n",
       "<style scoped>\n",
       "    .dataframe tbody tr th:only-of-type {\n",
       "        vertical-align: middle;\n",
       "    }\n",
       "\n",
       "    .dataframe tbody tr th {\n",
       "        vertical-align: top;\n",
       "    }\n",
       "\n",
       "    .dataframe thead th {\n",
       "        text-align: right;\n",
       "    }\n",
       "</style>\n",
       "<table border=\"1\" class=\"dataframe\">\n",
       "  <thead>\n",
       "    <tr style=\"text-align: right;\">\n",
       "      <th></th>\n",
       "      <th>Agencia</th>\n",
       "      <th>Exercicio_Apurado</th>\n",
       "      <th>Num_Processo</th>\n",
       "      <th>Ministerio</th>\n",
       "      <th>Tipo_Processo</th>\n",
       "      <th>Tipo_Alterado</th>\n",
       "      <th>Status_Processo</th>\n",
       "      <th>Data_Autuacao</th>\n",
       "      <th>Data_Encerramento</th>\n",
       "      <th>Relator</th>\n",
       "      <th>...</th>\n",
       "      <th>Unidade_Tecnica_Por_Agir</th>\n",
       "      <th>Confidencialidade</th>\n",
       "      <th>quant_responsaveis</th>\n",
       "      <th>decisao_normativa</th>\n",
       "      <th>instrucao_normativa</th>\n",
       "      <th>deliberacoes_quantidade</th>\n",
       "      <th>determinacoes</th>\n",
       "      <th>recomendacoes</th>\n",
       "      <th>sancoes</th>\n",
       "      <th>alerta</th>\n",
       "    </tr>\n",
       "  </thead>\n",
       "  <tbody>\n",
       "    <tr>\n",
       "      <th>0</th>\n",
       "      <td>I</td>\n",
       "      <td>2010.0</td>\n",
       "      <td>1</td>\n",
       "      <td>a</td>\n",
       "      <td>PC - Prestação de Contas</td>\n",
       "      <td>NÃO</td>\n",
       "      <td>Encerrado</td>\n",
       "      <td>40772.0</td>\n",
       "      <td>41603</td>\n",
       "      <td>ALC</td>\n",
       "      <td>...</td>\n",
       "      <td>B</td>\n",
       "      <td>Restrito</td>\n",
       "      <td>5</td>\n",
       "      <td>DN 2010-110</td>\n",
       "      <td>IN 2008-057; IN 2010-063</td>\n",
       "      <td>1.0</td>\n",
       "      <td>Não</td>\n",
       "      <td>Sim</td>\n",
       "      <td>Não</td>\n",
       "      <td>Não</td>\n",
       "    </tr>\n",
       "    <tr>\n",
       "      <th>1</th>\n",
       "      <td>I</td>\n",
       "      <td>2002.0</td>\n",
       "      <td>2</td>\n",
       "      <td>a</td>\n",
       "      <td>PC - Prestação de Contas</td>\n",
       "      <td>NÃO</td>\n",
       "      <td>Encerrado</td>\n",
       "      <td>37789.0</td>\n",
       "      <td>38484</td>\n",
       "      <td>JN</td>\n",
       "      <td>...</td>\n",
       "      <td>A</td>\n",
       "      <td>Restrito</td>\n",
       "      <td>5</td>\n",
       "      <td>N/D</td>\n",
       "      <td>IN 2000-037; IN 2002-042; IN 2002-045</td>\n",
       "      <td>1.0</td>\n",
       "      <td>Sim</td>\n",
       "      <td>Não</td>\n",
       "      <td>Não</td>\n",
       "      <td>Não</td>\n",
       "    </tr>\n",
       "    <tr>\n",
       "      <th>2</th>\n",
       "      <td>I</td>\n",
       "      <td>2004.0</td>\n",
       "      <td>3</td>\n",
       "      <td>a</td>\n",
       "      <td>PC - Prestação de Contas</td>\n",
       "      <td>SIM</td>\n",
       "      <td>Encerrado</td>\n",
       "      <td>38512.0</td>\n",
       "      <td>39127</td>\n",
       "      <td>BZ</td>\n",
       "      <td>...</td>\n",
       "      <td>B</td>\n",
       "      <td>Restrito</td>\n",
       "      <td>5</td>\n",
       "      <td>DN 2004-062</td>\n",
       "      <td>IN 2002-045; IN 2004-047</td>\n",
       "      <td>1.0</td>\n",
       "      <td>Sim</td>\n",
       "      <td>Não</td>\n",
       "      <td>Não</td>\n",
       "      <td>Não</td>\n",
       "    </tr>\n",
       "    <tr>\n",
       "      <th>3</th>\n",
       "      <td>I</td>\n",
       "      <td>2006.0</td>\n",
       "      <td>4</td>\n",
       "      <td>a</td>\n",
       "      <td>PC - Prestação de Contas</td>\n",
       "      <td>NÃO</td>\n",
       "      <td>Encerrado</td>\n",
       "      <td>39269.0</td>\n",
       "      <td>39968</td>\n",
       "      <td>WR</td>\n",
       "      <td>...</td>\n",
       "      <td>A</td>\n",
       "      <td>Restrito</td>\n",
       "      <td>5</td>\n",
       "      <td>DN 2006-081</td>\n",
       "      <td>IN 2004-047</td>\n",
       "      <td>1.0</td>\n",
       "      <td>Sim</td>\n",
       "      <td>Não</td>\n",
       "      <td>Não</td>\n",
       "      <td>Não</td>\n",
       "    </tr>\n",
       "    <tr>\n",
       "      <th>4</th>\n",
       "      <td>I</td>\n",
       "      <td>2009.0</td>\n",
       "      <td>5</td>\n",
       "      <td>a</td>\n",
       "      <td>PC - Prestação de Contas</td>\n",
       "      <td>NÃO</td>\n",
       "      <td>Encerrado</td>\n",
       "      <td>40386.0</td>\n",
       "      <td>40612</td>\n",
       "      <td>ALC</td>\n",
       "      <td>...</td>\n",
       "      <td>B</td>\n",
       "      <td>Restrito</td>\n",
       "      <td>5</td>\n",
       "      <td>DN 2009-102</td>\n",
       "      <td>IN 2008-057</td>\n",
       "      <td>1.0</td>\n",
       "      <td>Não</td>\n",
       "      <td>Sim</td>\n",
       "      <td>Não</td>\n",
       "      <td>Sim</td>\n",
       "    </tr>\n",
       "  </tbody>\n",
       "</table>\n",
       "<p>5 rows × 22 columns</p>\n",
       "</div>"
      ],
      "text/plain": [
       "  Agencia  Exercicio_Apurado Num_Processo Ministerio  \\\n",
       "0       I             2010.0            1          a   \n",
       "1       I             2002.0            2          a   \n",
       "2       I             2004.0            3          a   \n",
       "3       I             2006.0            4          a   \n",
       "4       I             2009.0            5          a   \n",
       "\n",
       "              Tipo_Processo Tipo_Alterado Status_Processo  Data_Autuacao  \\\n",
       "0  PC - Prestação de Contas           NÃO       Encerrado        40772.0   \n",
       "1  PC - Prestação de Contas           NÃO       Encerrado        37789.0   \n",
       "2  PC - Prestação de Contas           SIM       Encerrado        38512.0   \n",
       "3  PC - Prestação de Contas           NÃO       Encerrado        39269.0   \n",
       "4  PC - Prestação de Contas           NÃO       Encerrado        40386.0   \n",
       "\n",
       "  Data_Encerramento Relator  ...    Unidade_Tecnica_Por_Agir  \\\n",
       "0             41603     ALC  ...                           B   \n",
       "1             38484      JN  ...                           A   \n",
       "2             39127      BZ  ...                           B   \n",
       "3             39968      WR  ...                           A   \n",
       "4             40612     ALC  ...                           B   \n",
       "\n",
       "  Confidencialidade quant_responsaveis decisao_normativa  \\\n",
       "0          Restrito                  5       DN 2010-110   \n",
       "1          Restrito                  5               N/D   \n",
       "2          Restrito                  5       DN 2004-062   \n",
       "3          Restrito                  5       DN 2006-081   \n",
       "4          Restrito                  5       DN 2009-102   \n",
       "\n",
       "                     instrucao_normativa deliberacoes_quantidade  \\\n",
       "0               IN 2008-057; IN 2010-063                     1.0   \n",
       "1  IN 2000-037; IN 2002-042; IN 2002-045                     1.0   \n",
       "2               IN 2002-045; IN 2004-047                     1.0   \n",
       "3                            IN 2004-047                     1.0   \n",
       "4                            IN 2008-057                     1.0   \n",
       "\n",
       "  determinacoes  recomendacoes sancoes alerta  \n",
       "0           Não            Sim     Não    Não  \n",
       "1           Sim            Não     Não    Não  \n",
       "2           Sim            Não     Não    Não  \n",
       "3           Sim            Não     Não    Não  \n",
       "4           Não            Sim     Não    Sim  \n",
       "\n",
       "[5 rows x 22 columns]"
      ]
     },
     "execution_count": 2,
     "metadata": {},
     "output_type": "execute_result"
    }
   ],
   "source": [
    "# carregar o arquivo csv\n",
    "# pandas vai converter o arquivo em um DataFrame\n",
    "# por convenção chamamos o DataFrame de df\n",
    "# sep \";\" informa que os campos são separados por \";\"\n",
    "\n",
    "df = pd.read_excel('base_de_dados.xlsx')\n",
    "\n",
    "# mostra as 5 primeiras linhas do DataFrame\n",
    "df.head()\n"
   ]
  },
  {
   "cell_type": "code",
   "execution_count": 3,
   "metadata": {},
   "outputs": [
    {
     "data": {
      "text/plain": [
       "Agencia                        127\n",
       "Exercicio_Apurado              127\n",
       "Num_Processo                   127\n",
       "Ministerio                     127\n",
       "Tipo_Processo                  127\n",
       "Tipo_Alterado                  127\n",
       "Status_Processo                127\n",
       "Data_Autuacao                  127\n",
       "Data_Encerramento              117\n",
       "Relator                        127\n",
       "Quantidade_Relatores           127\n",
       "Unidade_Tecnica_Responsavel    127\n",
       "Unidade_Tecnica_Por_Agir       127\n",
       "Confidencialidade              127\n",
       "quant_responsaveis             183\n",
       "decisao_normativa              127\n",
       "instrucao_normativa            127\n",
       "deliberacoes_quantidade        123\n",
       "determinacoes                  125\n",
       "recomendacoes                  125\n",
       "sancoes                        125\n",
       "alerta                         125\n",
       "dtype: int64"
      ]
     },
     "execution_count": 3,
     "metadata": {},
     "output_type": "execute_result"
    }
   ],
   "source": [
    "# quantas unidades no arquivo\n",
    "df.count()"
   ]
  },
  {
   "cell_type": "code",
   "execution_count": 4,
   "metadata": {},
   "outputs": [
    {
     "data": {
      "text/plain": [
       "Agencia                         object\n",
       "Exercicio_Apurado              float64\n",
       "Num_Processo                    object\n",
       "Ministerio                      object\n",
       "Tipo_Processo                   object\n",
       "Tipo_Alterado                   object\n",
       "Status_Processo                 object\n",
       "Data_Autuacao                  float64\n",
       "Data_Encerramento               object\n",
       "Relator                         object\n",
       "Quantidade_Relatores           float64\n",
       "Unidade_Tecnica_Responsavel     object\n",
       "Unidade_Tecnica_Por_Agir        object\n",
       "Confidencialidade               object\n",
       "quant_responsaveis               int64\n",
       "decisao_normativa               object\n",
       "instrucao_normativa             object\n",
       "deliberacoes_quantidade        float64\n",
       "determinacoes                   object\n",
       "recomendacoes                   object\n",
       "sancoes                         object\n",
       "alerta                          object\n",
       "dtype: object"
      ]
     },
     "execution_count": 4,
     "metadata": {},
     "output_type": "execute_result"
    }
   ],
   "source": [
    "# Mostra os tipos de cada coluna do DataFram\n",
    "df.dtypes\n"
   ]
  },
  {
   "cell_type": "code",
   "execution_count": 8,
   "metadata": {},
   "outputs": [
    {
     "data": {
      "text/plain": [
       "IX      26\n",
       "III     19\n",
       "VI      17\n",
       "V       17\n",
       "VII     14\n",
       "I       12\n",
       "VIII    10\n",
       "II       7\n",
       "IV       5\n",
       "Name: Agencia, dtype: int64"
      ]
     },
     "execution_count": 8,
     "metadata": {},
     "output_type": "execute_result"
    }
   ],
   "source": [
    "# conta quantas agencias existem\n",
    "# total de processos por agencias\n",
    "# 1) Qual a relação entre a quantidade de processos com:\n",
    "# a) agências\n",
    "df['Agencia'].value_counts()"
   ]
  },
  {
   "cell_type": "code",
   "execution_count": 9,
   "metadata": {},
   "outputs": [
    {
     "data": {
      "text/plain": [
       "2010.0    10\n",
       "2007.0    10\n",
       "2008.0    10\n",
       "2003.0     9\n",
       "2009.0     9\n",
       "2011.0     8\n",
       "2004.0     8\n",
       "2006.0     8\n",
       "2013.0     8\n",
       "2012.0     7\n",
       "2005.0     7\n",
       "2002.0     7\n",
       "1999.0     5\n",
       "2000.0     5\n",
       "2001.0     5\n",
       "2014.0     4\n",
       "2015.0     3\n",
       "1998.0     2\n",
       "2016.0     1\n",
       "1997.0     1\n",
       "Name: Exercicio_Apurado, dtype: int64"
      ]
     },
     "execution_count": 9,
     "metadata": {},
     "output_type": "execute_result"
    }
   ],
   "source": [
    "# 1) Qual a relação entre a quantidade de processos com:\n",
    "# b) O ano\n",
    "df['Exercicio_Apurado'].value_counts()"
   ]
  },
  {
   "cell_type": "code",
   "execution_count": 10,
   "metadata": {},
   "outputs": [
    {
     "data": {
      "text/plain": [
       "WR     24\n",
       "RS     14\n",
       "BZ     13\n",
       "JF     11\n",
       "JL      8\n",
       "JN      8\n",
       "VF      7\n",
       "UA      5\n",
       "AB      5\n",
       "BO      5\n",
       "AC      4\n",
       "ALC     3\n",
       "MV      3\n",
       "AA      2\n",
       "AO      2\n",
       "LR      2\n",
       "Mc      1\n",
       "VF1     1\n",
       "Jl      1\n",
       "JN      1\n",
       "AD      1\n",
       "IS      1\n",
       "HC      1\n",
       "AI      1\n",
       "GP      1\n",
       "M.V     1\n",
       " JF     1\n",
       "Name: Relator, dtype: int64"
      ]
     },
     "execution_count": 10,
     "metadata": {},
     "output_type": "execute_result"
    }
   ],
   "source": [
    "# 1) Qual a relação entre a quantidade de processos com:\n",
    "# d) O relator\n",
    "df['Relator'].value_counts()"
   ]
  },
  {
   "cell_type": "code",
   "execution_count": 11,
   "metadata": {},
   "outputs": [
    {
     "data": {
      "text/plain": [
       "A    43\n",
       "C    42\n",
       "B    42\n",
       "Name: Unidade_Tecnica_Responsavel, dtype: int64"
      ]
     },
     "execution_count": 11,
     "metadata": {},
     "output_type": "execute_result"
    }
   ],
   "source": [
    "# 1) Qual a relação entre a quantidade de processos com:\n",
    "# f) A unidade técnica responsável\n",
    "\n",
    "df['Unidade_Tecnica_Responsavel'].value_counts()"
   ]
  },
  {
   "cell_type": "code",
   "execution_count": 12,
   "metadata": {},
   "outputs": [
    {
     "data": {
      "text/plain": [
       "<matplotlib.axes._subplots.AxesSubplot at 0x1f4a30c7518>"
      ]
     },
     "execution_count": 12,
     "metadata": {},
     "output_type": "execute_result"
    },
    {
     "data": {
      "image/png": "[encoded data removed]",
      "text/plain": [
       "<Figure size 432x288 with 1 Axes>"
      ]
     },
     "metadata": {
      "needs_background": "light"
     },
     "output_type": "display_data"
    }
   ],
   "source": [
    "# Mostrando os dados em um gráfico\n",
    "# Precisamos informar que queremos visualizar o gráfico dentro do próprio notebook\n",
    "%matplotlib inline\n",
    "df['Relator'].value_counts().plot.bar()"
   ]
  },
  {
   "cell_type": "code",
   "execution_count": 3,
   "metadata": {},
   "outputs": [
    {
     "data": {
      "text/html": [
       "<div>\n",
       "<style scoped>\n",
       "    .dataframe tbody tr th:only-of-type {\n",
       "        vertical-align: middle;\n",
       "    }\n",
       "\n",
       "    .dataframe tbody tr th {\n",
       "        vertical-align: top;\n",
       "    }\n",
       "\n",
       "    .dataframe thead th {\n",
       "        text-align: right;\n",
       "    }\n",
       "</style>\n",
       "<table border=\"1\" class=\"dataframe\">\n",
       "  <thead>\n",
       "    <tr style=\"text-align: right;\">\n",
       "      <th></th>\n",
       "      <th>Exercicio_Apurado</th>\n",
       "      <th>Data_Autuacao</th>\n",
       "      <th>Quantidade_Relatores</th>\n",
       "      <th>quant_responsaveis</th>\n",
       "      <th>deliberacoes_quantidade</th>\n",
       "    </tr>\n",
       "  </thead>\n",
       "  <tbody>\n",
       "    <tr>\n",
       "      <th>count</th>\n",
       "      <td>127.000000</td>\n",
       "      <td>127.000000</td>\n",
       "      <td>127.000000</td>\n",
       "      <td>183.0</td>\n",
       "      <td>123.000000</td>\n",
       "    </tr>\n",
       "    <tr>\n",
       "      <th>mean</th>\n",
       "      <td>2006.874016</td>\n",
       "      <td>39608.566929</td>\n",
       "      <td>1.850394</td>\n",
       "      <td>5.0</td>\n",
       "      <td>1.512195</td>\n",
       "    </tr>\n",
       "    <tr>\n",
       "      <th>std</th>\n",
       "      <td>4.566948</td>\n",
       "      <td>1698.675047</td>\n",
       "      <td>1.603957</td>\n",
       "      <td>0.0</td>\n",
       "      <td>1.506085</td>\n",
       "    </tr>\n",
       "    <tr>\n",
       "      <th>min</th>\n",
       "      <td>1997.000000</td>\n",
       "      <td>35951.000000</td>\n",
       "      <td>1.000000</td>\n",
       "      <td>5.0</td>\n",
       "      <td>0.000000</td>\n",
       "    </tr>\n",
       "    <tr>\n",
       "      <th>25%</th>\n",
       "      <td>2003.000000</td>\n",
       "      <td>38163.500000</td>\n",
       "      <td>1.000000</td>\n",
       "      <td>5.0</td>\n",
       "      <td>1.000000</td>\n",
       "    </tr>\n",
       "    <tr>\n",
       "      <th>50%</th>\n",
       "      <td>2007.000000</td>\n",
       "      <td>39659.000000</td>\n",
       "      <td>1.000000</td>\n",
       "      <td>5.0</td>\n",
       "      <td>1.000000</td>\n",
       "    </tr>\n",
       "    <tr>\n",
       "      <th>75%</th>\n",
       "      <td>2010.000000</td>\n",
       "      <td>40802.500000</td>\n",
       "      <td>2.000000</td>\n",
       "      <td>5.0</td>\n",
       "      <td>1.000000</td>\n",
       "    </tr>\n",
       "    <tr>\n",
       "      <th>max</th>\n",
       "      <td>2016.000000</td>\n",
       "      <td>43076.000000</td>\n",
       "      <td>13.000000</td>\n",
       "      <td>5.0</td>\n",
       "      <td>9.000000</td>\n",
       "    </tr>\n",
       "  </tbody>\n",
       "</table>\n",
       "</div>"
      ],
      "text/plain": [
       "       Exercicio_Apurado  Data_Autuacao  Quantidade_Relatores  \\\n",
       "count         127.000000     127.000000            127.000000   \n",
       "mean         2006.874016   39608.566929              1.850394   \n",
       "std             4.566948    1698.675047              1.603957   \n",
       "min          1997.000000   35951.000000              1.000000   \n",
       "25%          2003.000000   38163.500000              1.000000   \n",
       "50%          2007.000000   39659.000000              1.000000   \n",
       "75%          2010.000000   40802.500000              2.000000   \n",
       "max          2016.000000   43076.000000             13.000000   \n",
       "\n",
       "       quant_responsaveis  deliberacoes_quantidade  \n",
       "count               183.0               123.000000  \n",
       "mean                  5.0                 1.512195  \n",
       "std                   0.0                 1.506085  \n",
       "min                   5.0                 0.000000  \n",
       "25%                   5.0                 1.000000  \n",
       "50%                   5.0                 1.000000  \n",
       "75%                   5.0                 1.000000  \n",
       "max                   5.0                 9.000000  "
      ]
     },
     "execution_count": 3,
     "metadata": {},
     "output_type": "execute_result"
    }
   ],
   "source": [
    "# Descrever as colunas numéricas\n",
    "df.describe()"
   ]
  }
 ],
 "metadata": {
  "kernelspec": {
   "display_name": "Python 3",
   "language": "python",
   "name": "python3"
  },
  "language_info": {
   "codemirror_mode": {
    "name": "ipython",
    "version": 3
   },
   "file_extension": ".py",
   "mimetype": "text/x-python",
   "name": "python",
   "nbconvert_exporter": "python",
   "pygments_lexer": "ipython3",
   "version": "3.7.1"
  }
 },
 "nbformat": 4,
 "nbformat_minor": 2
}
